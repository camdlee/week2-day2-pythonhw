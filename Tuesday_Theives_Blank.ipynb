{
 "cells": [
  {
   "cell_type": "markdown",
   "metadata": {},
   "source": [
    "# Functions, Scoping, Data Collections 1 & List Comprehensions"
   ]
  },
  {
   "attachments": {},
   "cell_type": "markdown",
   "metadata": {},
   "source": [
    "## Tasks Today:\n",
    "\n",
    "1) String Manipulation <br>\n",
    " &nbsp;&nbsp;&nbsp;&nbsp; a) strip() <br>\n",
    " &nbsp;&nbsp;&nbsp;&nbsp; b) title() <br>\n",
    "1) Working With Lists <br>\n",
    " &nbsp;&nbsp;&nbsp;&nbsp; a) min() <br>\n",
    " &nbsp;&nbsp;&nbsp;&nbsp; b) max() <br>\n",
    " &nbsp;&nbsp;&nbsp;&nbsp; c) sum() <br>\n",
    " &nbsp;&nbsp;&nbsp;&nbsp; d) sort() <br>\n",
    " &nbsp;&nbsp;&nbsp;&nbsp; e) Copying a List <br>\n",
    " &nbsp;&nbsp;&nbsp;&nbsp; i) Checking an Empty List <br>\n",
    " &nbsp;&nbsp;&nbsp;&nbsp; j) Removing Instances with a Loop <br>\n",
    "1) List Comprehensions <br>\n",
    "2) Tuples <br>\n",
    " &nbsp;&nbsp;&nbsp;&nbsp; a) sorted() <br>\n",
    "1) Functions <br>\n",
    " &nbsp;&nbsp;&nbsp;&nbsp; a) User-Defined vs. Built-In Functions <br>\n",
    " &nbsp;&nbsp;&nbsp;&nbsp; b) Accepting Parameters <br>\n",
    " &nbsp;&nbsp;&nbsp;&nbsp; c) Default Parameters <br>\n",
    " &nbsp;&nbsp;&nbsp;&nbsp; d) Making an Argument Optional <br>\n",
    " &nbsp;&nbsp;&nbsp;&nbsp; e) Keyword Arguments <br>\n",
    " &nbsp;&nbsp;&nbsp;&nbsp; f) Returning Values <br>\n",
    " &nbsp;&nbsp;&nbsp;&nbsp; g) *args & **kwargs<br>\n",
    " &nbsp;&nbsp;&nbsp;&nbsp; h) Docstring <br>\n",
    " &nbsp;&nbsp;&nbsp;&nbsp; i) Using a User Function in a Loop <br>\n",
    "1) Scope"
   ]
  },
  {
   "cell_type": "markdown",
   "metadata": {},
   "source": [
    "### String Manipulation"
   ]
  },
  {
   "attachments": {},
   "cell_type": "markdown",
   "metadata": {},
   "source": [
    "##### .lstrip() - Remove spaces on the left side of the string"
   ]
  },
  {
   "cell_type": "code",
   "execution_count": null,
   "metadata": {},
   "outputs": [],
   "source": [
    "# string.lstrip()\n",
    "# can pass argument to specify what characters to strip \n",
    "txt = '       lkthieves'\n",
    "# need to specify empty space before text\n",
    "txt.lstrip(' lk')"
   ]
  },
  {
   "attachments": {},
   "cell_type": "markdown",
   "metadata": {},
   "source": [
    "##### .rstrip() - Remove spaces on the right side of the string"
   ]
  },
  {
   "cell_type": "code",
   "execution_count": null,
   "metadata": {},
   "outputs": [],
   "source": [
    "# string.rstrip()\n",
    "txt = '       lkthievesjk'\n",
    "txt.rstrip('jk')"
   ]
  },
  {
   "attachments": {},
   "cell_type": "markdown",
   "metadata": {},
   "source": [
    "##### .strip() - Remove spaces at the beginning and at the end of the string"
   ]
  },
  {
   "cell_type": "code",
   "execution_count": null,
   "metadata": {},
   "outputs": [],
   "source": [
    "# string.strip()\n",
    "txt = '       lkthievesjk       '\n",
    "txt.strip(' jk ')\n"
   ]
  },
  {
   "attachments": {},
   "cell_type": "markdown",
   "metadata": {},
   "source": [
    "##### .title() - returns a string where the first character in every word is upper case"
   ]
  },
  {
   "cell_type": "code",
   "execution_count": null,
   "metadata": {},
   "outputs": [],
   "source": [
    "# string.title()\n",
    "name = 'luke'\n",
    "name.title()"
   ]
  },
  {
   "cell_type": "markdown",
   "metadata": {},
   "source": [
    "### String Exercise <br>\n",
    "<p>Strip all white space and capitalize every name in the list given</p>"
   ]
  },
  {
   "cell_type": "code",
   "execution_count": null,
   "metadata": {},
   "outputs": [],
   "source": [
    "names = ['    coNNor', 'max', ' EVan ', 'JORDAN']\n",
    "# HINT: You will need to use a for loop for iteration\n",
    "new_names = []\n",
    "for name in names:\n",
    "    new_name = name.strip().title()\n",
    "    new_names.append(new_name)\n",
    "print(new_names)"
   ]
  },
  {
   "cell_type": "markdown",
   "metadata": {},
   "source": [
    "### Working With Lists"
   ]
  },
  {
   "attachments": {},
   "cell_type": "markdown",
   "metadata": {},
   "source": [
    "##### min() - returns the item with the lowest value, or the item with the lowest value in an iterable."
   ]
  },
  {
   "cell_type": "code",
   "execution_count": null,
   "metadata": {},
   "outputs": [],
   "source": [
    "# min(list)\n",
    "grades = [90,55,82,71]\n",
    "min(grades)"
   ]
  },
  {
   "attachments": {},
   "cell_type": "markdown",
   "metadata": {},
   "source": [
    "##### max() - returns the item with the highest value, or the item with the highest value in an iterable."
   ]
  },
  {
   "cell_type": "code",
   "execution_count": null,
   "metadata": {},
   "outputs": [],
   "source": [
    "# max(list)\n",
    "grades = [90,55,82,71]\n",
    "max(grades)"
   ]
  },
  {
   "attachments": {},
   "cell_type": "markdown",
   "metadata": {},
   "source": [
    "##### sum() - returns a number, the sum of all items in an iterable."
   ]
  },
  {
   "cell_type": "code",
   "execution_count": null,
   "metadata": {},
   "outputs": [],
   "source": [
    "# sum(list)\n",
    "grades = [90,55,82,71]\n",
    "sum(grades)\n"
   ]
  },
  {
   "attachments": {},
   "cell_type": "markdown",
   "metadata": {},
   "source": [
    "##### sorted() - returns a sorted list of the specified iterable object."
   ]
  },
  {
   "cell_type": "code",
   "execution_count": null,
   "metadata": {},
   "outputs": [],
   "source": [
    "# sorted(list)\n",
    "# sorted does not effect the original list, it returns a copy\n",
    "# can pass argument to reverse sorted order\n",
    "\n",
    "grades_copy = sorted(grades, reverse=True)\n",
    "print(grades)\n",
    "print(grades_copy)\n"
   ]
  },
  {
   "cell_type": "markdown",
   "metadata": {},
   "source": [
    "##### .sort() <br>\n",
    "<p>Difference between sort and sorted, is that sorted doesn't change original list it returns a copy, while .sort changes the original list</p>"
   ]
  },
  {
   "cell_type": "code",
   "execution_count": null,
   "metadata": {},
   "outputs": [],
   "source": [
    "# list.sort()\n",
    "# use sorted when you don't want to alter original list, use .sort() when you want to alter original list\n",
    "grades.sort()\n",
    "print(grades)"
   ]
  },
  {
   "cell_type": "markdown",
   "metadata": {},
   "source": [
    "##### Copying a List"
   ]
  },
  {
   "cell_type": "code",
   "execution_count": null,
   "metadata": {},
   "outputs": [],
   "source": [
    "# [:] copies a list, doesn't alter original\n",
    "# .copy() method\n",
    "grades_copy = grades[:]\n",
    "grades_copy2 = grades.copy()\n",
    "\n",
    "print(grades_copy)\n",
    "print(grades_copy2)"
   ]
  },
  {
   "cell_type": "markdown",
   "metadata": {},
   "source": [
    "##### Checking an Empty List"
   ]
  },
  {
   "cell_type": "code",
   "execution_count": null,
   "metadata": {},
   "outputs": [],
   "source": [
    "# if list1: or if list1 == []:\n",
    "list =[]\n",
    "if list == []:\n",
    "    print('empty')\n",
    "\n",
    "# bool() checks if list is true(has values) or false(no values)\n",
    "list1 = [1]\n",
    "bool(list1)"
   ]
  },
  {
   "cell_type": "markdown",
   "metadata": {},
   "source": [
    "##### Removing Instances with a Loop"
   ]
  },
  {
   "cell_type": "code",
   "execution_count": null,
   "metadata": {},
   "outputs": [],
   "source": [
    "# while & for, remove\n",
    "students = ['Dennis', 'Cameron', 'SJ', 'Mason', 'Dylan']\n",
    "# while loop\n",
    "#while 'Dylan' in students:\n",
    "#    students.remove('Dylan')\n",
    "#print(students)\n",
    "\n",
    "# for loop\n",
    "for name in students:\n",
    "    if 'Dylan' == name:\n",
    "        students.remove(name)\n",
    "print(students)"
   ]
  },
  {
   "cell_type": "markdown",
   "metadata": {},
   "source": [
    "### List Exercise <br>\n",
    "<p>Remove all duplicates<br><b>Extra: Create a program that will remove any duplicates from a given list</b></p>"
   ]
  },
  {
   "cell_type": "code",
   "execution_count": null,
   "metadata": {},
   "outputs": [],
   "source": [
    "names = ['connor', 'connor', 'bob', 'connor', 'evan', 'max', 'evan', 2, 2, 2, 3, 3, 4, 'bob', 'kevin']\n",
    "# Hint 1: You will need an append\n",
    "# Hint 2: Using an empty list will make life easier\n",
    "\n",
    "#make an empty list\n",
    "new_list = []\n",
    "#iterate through original list\n",
    "for name in names:\n",
    "#check if name is not is not in new list\n",
    "    if name not in new_list:\n",
    "#if not in new list then add it\n",
    "        new_list.append(name)\n",
    "print(new_list)"
   ]
  },
  {
   "attachments": {},
   "cell_type": "markdown",
   "metadata": {},
   "source": [
    "#### List Comprehension - offers a shorter syntax when you want to create a new list based on the values of an existing list."
   ]
  },
  {
   "attachments": {},
   "cell_type": "markdown",
   "metadata": {},
   "source": [
    "#### Syntax - newlist = [expression for item in iterable if condition == True]\n",
    "##### The return value is a new list, leaving the old list unchanged.\n",
    "##### The condition is like a filter that only accepts the items that valuate to True."
   ]
  },
  {
   "cell_type": "code",
   "execution_count": null,
   "metadata": {},
   "outputs": [],
   "source": [
    "# number list comprehension\n",
    "\n",
    "# With a regular for loop\n",
    "nums_list= []\n",
    "for num in range(10):\n",
    "    nums_list.append(num)\n",
    "print(nums_list)\n",
    "# List Comprehension\n",
    "nums_list_comp = [num for num in range(10)]\n",
    "print(nums_list_comp)"
   ]
  },
  {
   "attachments": {},
   "cell_type": "markdown",
   "metadata": {},
   "source": [
    "There are a few benefits to using List comprehensions. The most obvious would be that we now have shorter code to work with instead of using 3+ lines of code in the for loop variant.\n",
    "\n",
    "More time-efficient and space-efficient than loops.\n",
    "\n",
    "Lastly, list comprehensions are considered the \"pythonic\" way to write code."
   ]
  },
  {
   "cell_type": "code",
   "execution_count": null,
   "metadata": {},
   "outputs": [],
   "source": [
    "# square number list comprehension\n",
    "\n",
    "# regular for loop\n",
    "nums_list = []\n",
    "for num in range(10):\n",
    "    nums_list.append(num**2)\n",
    "print(nums_list)\n",
    "\n",
    "# List comprehension\n",
    "nums_list = [num**2 for num in range(10)]\n",
    "print(nums_list)"
   ]
  },
  {
   "cell_type": "code",
   "execution_count": null,
   "metadata": {},
   "outputs": [],
   "source": [
    "# string list comprehension\n",
    "students = ['Dennis', 'Cameron', 'SJ', 'Mason', 'Dylan']\n",
    "# For loop\n",
    "names_list = []\n",
    "for name in students:\n",
    "    names_list.append(name[0])\n",
    "print(names_list)\n",
    "\n",
    "# List Comprehension\n",
    "names_list = [name[0] for name in students]\n",
    "print(names_list)"
   ]
  },
  {
   "attachments": {},
   "cell_type": "markdown",
   "metadata": {},
   "source": [
    "### Tuples - Collection which is ordered, unchangeable, and allow duplicate values."
   ]
  },
  {
   "cell_type": "code",
   "execution_count": null,
   "metadata": {},
   "outputs": [],
   "source": [
    "codes = (123, 345, 678)\n",
    "codes2 = 342, 4532, 254\n",
    "\n",
    "# for loop with tuple\n",
    "for code in codes:\n",
    "    print(code)\n",
    "\n",
    "for index, code in enumerate(codes):\n",
    "    print(index)\n",
    "\n",
    "for index in range(len(codes)):\n",
    "    print(index)"
   ]
  },
  {
   "cell_type": "markdown",
   "metadata": {},
   "source": [
    "##### sorted()"
   ]
  },
  {
   "cell_type": "code",
   "execution_count": null,
   "metadata": {},
   "outputs": [],
   "source": [
    "codes = (2342, 342, 1234)\n",
    "sorted(codes)\n",
    "#this actually changes the tuple to a list\n",
    "codes_sorted = tuple(sorted(codes))\n",
    "# this will make it a tuple\n",
    "print(codes_sorted)"
   ]
  },
  {
   "cell_type": "markdown",
   "metadata": {},
   "source": [
    "##### Adding values to a Tuple"
   ]
  },
  {
   "cell_type": "code",
   "execution_count": null,
   "metadata": {},
   "outputs": [],
   "source": [
    "# while you can't change what's inside tuple, you can add to it\n",
    "\n",
    "codes = codes + (1,)\n",
    "print(codes)"
   ]
  },
  {
   "cell_type": "markdown",
   "metadata": {},
   "source": [
    "## Functions"
   ]
  },
  {
   "cell_type": "markdown",
   "metadata": {},
   "source": [
    "##### User-Defined vs. Built-In Functions"
   ]
  },
  {
   "cell_type": "code",
   "execution_count": null,
   "metadata": {},
   "outputs": [],
   "source": [
    "#User-defined\n",
    "#only use print to see status of code, but return will output whatever value \n",
    "def greet():\n",
    "    return 'Hello Thieves'\n",
    "\n",
    "#Built-In, showing the function in memory\n",
    "print(greet())\n",
    "#Built_in, calling the function\n"
   ]
  },
  {
   "cell_type": "markdown",
   "metadata": {},
   "source": [
    "##### Accepting Parameters"
   ]
  },
  {
   "cell_type": "code",
   "execution_count": null,
   "metadata": {},
   "outputs": [],
   "source": [
    "# Order matters\n",
    "# A variable can be of any type of object\n",
    "def full_name(first_name, last_name):\n",
    "    return f'I am president {first_name} {last_name}'\n",
    "\n",
    "print(full_name('dylan', 'katina'))\n",
    "full_name('cameron', 'lee')"
   ]
  },
  {
   "cell_type": "markdown",
   "metadata": {},
   "source": [
    "##### Default Parameters"
   ]
  },
  {
   "cell_type": "code",
   "execution_count": null,
   "metadata": {},
   "outputs": [],
   "source": [
    "# default parameters need to be AFTER non-default parameters at all times\n",
    "# default parameter has to come at the end of \n",
    "\n",
    "def cohort_name(number, name='Thieves'):\n",
    "    return f'This is cohort {name}-{number}'\n",
    "\n",
    "print(cohort_name(110))"
   ]
  },
  {
   "cell_type": "markdown",
   "metadata": {},
   "source": [
    "##### Making an Argument Optional"
   ]
  },
  {
   "cell_type": "code",
   "execution_count": null,
   "metadata": {},
   "outputs": [],
   "source": [
    "def full_name(first_name, last_name, middle_name=''):\n",
    "    return f'Hello my name is {first_name} {middle_name} {last_name}'\n",
    "\n",
    "print(full_name('Devin', 'Volk'))"
   ]
  },
  {
   "cell_type": "markdown",
   "metadata": {},
   "source": [
    "# Creating a start, stop, step function"
   ]
  },
  {
   "cell_type": "code",
   "execution_count": null,
   "metadata": {},
   "outputs": [],
   "source": [
    "def my_range(stop, start=0, step=1):\n",
    "    for num in range(start, stop, step):\n",
    "        print(num)\n",
    "\n",
    "my_range(10, 2, 2)"
   ]
  },
  {
   "cell_type": "markdown",
   "metadata": {},
   "source": [
    "##### Returning Values"
   ]
  },
  {
   "cell_type": "code",
   "execution_count": null,
   "metadata": {},
   "outputs": [],
   "source": [
    "# when returning a value it ends the function\n",
    "# see above"
   ]
  },
  {
   "attachments": {},
   "cell_type": "markdown",
   "metadata": {},
   "source": [
    "##### *args/**kwargs (A.K.A. KeyWord Arguments)##### *args"
   ]
  },
  {
   "cell_type": "code",
   "execution_count": null,
   "metadata": {},
   "outputs": [],
   "source": [
    "# *args = unlimited amount of arguments, function stores as tuple\n",
    "# **kwargs = unlimited amount of keyword arguments, function stores as dictionary\n",
    "\n",
    "def print_args(name, *args, **kwargs):\n",
    "    print(name)\n",
    "    print(args)\n",
    "    print(kwargs)\n",
    "\n",
    "print_args('thieves', 2, 'dylan', 'devin', 'kayla', superbowl = 'Eagles vs Chiefs')\n",
    "# superbowl is key and Eagles vs Chiefs is value in it's dictionary"
   ]
  },
  {
   "attachments": {},
   "cell_type": "markdown",
   "metadata": {},
   "source": [
    "##### Docstring - Multi-line Comment"
   ]
  },
  {
   "cell_type": "code",
   "execution_count": null,
   "metadata": {},
   "outputs": [],
   "source": [
    "# Allows you to write documentation for user-defined functions\n",
    "def print_names(list_of_names):\n",
    "    '''\n",
    "        Function requires a list to be passed as an argument\n",
    "        and will print the contents of the list. Expecting a list\n",
    "        of names(strings) to be passed\n",
    "    '''\n",
    "    for name in list_of_names:\n",
    "        print(name)\n",
    "\n",
    "print_names(['Dennis', 'Cameron', 'SJ', 'Mason', 'Dylan'])\n",
    "# help function will show documentation\n",
    "help(print_names)"
   ]
  },
  {
   "cell_type": "markdown",
   "metadata": {},
   "source": [
    "##### Using a User Function in a Loop"
   ]
  },
  {
   "cell_type": "code",
   "execution_count": null,
   "metadata": {},
   "outputs": [],
   "source": [
    "def print_user(user_choice):\n",
    "    print(user_choice)\n",
    "\n",
    "while True:\n",
    "    user_input = input('What would you like to do today?')\n",
    "    if user_input == 'quit':\n",
    "        break\n",
    "    else:\n",
    "        print_user(user_input)"
   ]
  },
  {
   "cell_type": "markdown",
   "metadata": {},
   "source": [
    "## Function Exercise <br>\n",
    "<p>Write a function that loops through a list of first_names and a list of last_names, combines the two and return a list of full_names</p>"
   ]
  },
  {
   "cell_type": "code",
   "execution_count": null,
   "metadata": {},
   "outputs": [],
   "source": [
    "first_name = ['John', 'Evan', 'Jordan', 'Max']\n",
    "last_name = ['Smith', 'Smith', 'Williams', 'Bell']\n",
    "\n",
    "# Output: ['John Smith', 'Evan Smith', 'Jordan Williams', 'Max Bell']\n",
    "\n",
    "#def combine_name(first_name, last_name):\n",
    "#    full_name = []\n",
    "#    i = 0\n",
    "#    while i < len(first_name):\n",
    "#        full_name.append(first_name[i] + \" \" + last_name[i])\n",
    "#        i += 1\n",
    "#    return full_name\n",
    "\n",
    "#print(combine_name(first_name, last_name))\n",
    "\n",
    "full_names = []\n",
    "for index in range(len(first_name)):\n",
    "    full_names.append(f'{first_name[index]} {last_name[index]}')\n",
    "print(full_names)"
   ]
  },
  {
   "attachments": {},
   "cell_type": "markdown",
   "metadata": {},
   "source": [
    "## Scope <br>\n",
    "<p>Scope refers to the ability to access variables, different types of scope include:<br>a) Global<br>b) Function (local)</p>"
   ]
  },
  {
   "cell_type": "code",
   "execution_count": null,
   "metadata": {},
   "outputs": [],
   "source": [
    "global_num = 10 #Global\n",
    "\n",
    "def my_number():\n",
    "    local_num = 5\n",
    "    print(local_num, global_num)\n",
    "\n",
    "my_number()\n",
    "\n",
    "#local scopes can't be pulled out of a function"
   ]
  },
  {
   "cell_type": "markdown",
   "metadata": {},
   "source": [
    "# Exercises"
   ]
  },
  {
   "cell_type": "markdown",
   "metadata": {},
   "source": [
    "## Exercise 1 <br>\n",
    "<p>Given a list as a parameter,write a function that returns a list of numbers that are less than ten</b></i></p><br>\n",
    "<p> For example: Say your input parameter to the function is [1,11,14,5,8,9]...Your output should [1,5,8,9]</p>"
   ]
  },
  {
   "cell_type": "code",
   "execution_count": 148,
   "metadata": {},
   "outputs": [
    {
     "data": {
      "text/plain": [
       "[1, 5, 8, 9]"
      ]
     },
     "execution_count": 148,
     "metadata": {},
     "output_type": "execute_result"
    }
   ],
   "source": [
    "# Use the following list - [1,11,14,5,8,9]\n",
    "# 2 solutions for each will earn 5th point\n",
    "\n",
    "l_1 = [1,11,14,5,8,9]\n",
    "\n",
    "# Solution 1\n",
    "def less_than_ten(list):\n",
    "    new_list =[]\n",
    "    for num in list:\n",
    "        if num < 10:\n",
    "            new_list.append(num)\n",
    "        else:\n",
    "            pass\n",
    "    return new_list\n",
    "\n",
    "less_than_ten(l_1)\n",
    "\n",
    "# Solution 2\n",
    "def less_than_10(list1):\n",
    "    i = 0\n",
    "    while i < len(list1):\n",
    "        if list1[i] >= 10:\n",
    "            list1.pop(i)\n",
    "        else:\n",
    "            i += 1\n",
    "    return list1\n",
    "\n",
    "less_than_10(l_1)"
   ]
  },
  {
   "cell_type": "markdown",
   "metadata": {},
   "source": [
    "## Exercise 2 <br>\n",
    "<p>Write a function that takes in two lists and returns the two lists merged together and sorted<br>\n",
    "<b><i>Hint: You can use the .sort() method</i></b></p>"
   ]
  },
  {
   "cell_type": "code",
   "execution_count": 149,
   "metadata": {},
   "outputs": [
    {
     "data": {
      "text/plain": [
       "[1, 2, 3, 3, 4, 4, 5, 5, 6, 6, 7, 8, 10]"
      ]
     },
     "execution_count": 149,
     "metadata": {},
     "output_type": "execute_result"
    }
   ],
   "source": [
    "l_1 = [1,2,3,4,5,6]\n",
    "l_2 = [3,4,5,6,7,8,10]\n",
    "\n",
    "# Solution 1\n",
    "def merge_sortedlist(list_1, list_2):\n",
    "    #create new list\n",
    "    merged_list = []\n",
    "    # loop through first list and add to new list\n",
    "    for num in list_1:\n",
    "        merged_list.append(num)\n",
    "    #loop through 2nd list and add to new list\n",
    "    for x in list_2:\n",
    "        merged_list.append(x)\n",
    "    # return sorted list\n",
    "    return sorted(merged_list)\n",
    "\n",
    "#merge_sortedlist(l_1,l_2) \n",
    "\n",
    "\n",
    "# Solution 2\n",
    "def merge_sorted_list(list_1, list_2):\n",
    "    # just add one list to the other\n",
    "    for num in list_1:\n",
    "        list_2.append(num)\n",
    "    return sorted(list_2)\n",
    "    \n",
    "merge_sorted_list(l_1,l_2)"
   ]
  }
 ],
 "metadata": {
  "kernelspec": {
   "display_name": "Python 3",
   "language": "python",
   "name": "python3"
  },
  "language_info": {
   "codemirror_mode": {
    "name": "ipython",
    "version": 3
   },
   "file_extension": ".py",
   "mimetype": "text/x-python",
   "name": "python",
   "nbconvert_exporter": "python",
   "pygments_lexer": "ipython3",
   "version": "3.10.9"
  },
  "vscode": {
   "interpreter": {
    "hash": "b90313491b8fcf5277c814ee9f8b8bef470f56b3ea82ad801adfe9786958121d"
   }
  }
 },
 "nbformat": 4,
 "nbformat_minor": 2
}
